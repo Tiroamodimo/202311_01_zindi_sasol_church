{
 "cells": [
  {
   "cell_type": "markdown",
   "source": [
    "# Churn EDA"
   ],
   "metadata": {
    "collapsed": false
   },
   "id": "a3120e84bc75b849"
  },
  {
   "cell_type": "markdown",
   "source": [
    "## Import Data"
   ],
   "metadata": {
    "collapsed": false
   },
   "id": "1c8cfcb57b23ab42"
  },
  {
   "cell_type": "code",
   "execution_count": 1,
   "outputs": [],
   "source": [
    "import os\n",
    "import duckdb"
   ],
   "metadata": {
    "collapsed": false,
    "ExecuteTime": {
     "end_time": "2023-11-22T21:48:49.283283273Z",
     "start_time": "2023-11-22T21:48:48.890976104Z"
    }
   },
   "id": "da3ff419c96de421"
  },
  {
   "cell_type": "code",
   "execution_count": 2,
   "outputs": [],
   "source": [
    "db_path = os.path.join('../' * 3, 'data','zindi_202311_01.db')\n",
    "assert os.path.exists(db_path)\n",
    "db_connection = duckdb.connect(db_path)"
   ],
   "metadata": {
    "collapsed": false,
    "ExecuteTime": {
     "end_time": "2023-11-22T21:48:49.289912753Z",
     "start_time": "2023-11-22T21:48:49.288725976Z"
    }
   },
   "id": "ca3e4ea6fe26e92b"
  },
  {
   "cell_type": "markdown",
   "source": [
    "## Variable Description"
   ],
   "metadata": {
    "collapsed": false
   },
   "id": "2ea37d2adf7cb32c"
  },
  {
   "cell_type": "code",
   "execution_count": 3,
   "outputs": [
    {
     "name": "stdout",
     "output_type": "stream",
     "text": [
      "<class 'pandas.core.frame.DataFrame'>\n",
      "RangeIndex: 20 entries, 0 to 19\n",
      "Data columns (total 2 columns):\n",
      " #   Column                Non-Null Count  Dtype \n",
      "---  ------                --------------  ----- \n",
      " 0   Variable Definitions  19 non-null     object\n",
      " 1   Unnamed: 2            19 non-null     object\n",
      "dtypes: object(2)\n",
      "memory usage: 452.0+ bytes\n",
      "None\n"
     ]
    },
    {
     "data": {
      "text/plain": "   Variable Definitions                                         Unnamed: 2\n0                  None  The churn dataset includes 19 variables includ...\n1                    ID                                               None\n2                region                        the location of each client\n3                tenure                            duration in the network\n4                Amount                                      top-up amount\n5      refill_frequency              number of times the customer refilled\n6               revenue                     monthly revenue of each client\n7          arpu_segment                           revenue over 90 days / 3\n8             frequency     number of times the client has made an revenue\n9           data_volume                              number of connections\n10               on_net                                call within network\n11            Procuct_1                                  call to Procuct_1\n12            Procuct_2                                  call to Procuct_2\n13                zone1                                     call to zones1\n14                zone2                                     call to zones2\n15                  mrg                              a client who is going\n16           regularity   number of times the client is active for 90 days\n17             top_pack                              the most active packs\n18        freq_top_pack  number of times the client has activated the t...\n19               Target                                variable to predict",
      "text/html": "<div>\n<style scoped>\n    .dataframe tbody tr th:only-of-type {\n        vertical-align: middle;\n    }\n\n    .dataframe tbody tr th {\n        vertical-align: top;\n    }\n\n    .dataframe thead th {\n        text-align: right;\n    }\n</style>\n<table border=\"1\" class=\"dataframe\">\n  <thead>\n    <tr style=\"text-align: right;\">\n      <th></th>\n      <th>Variable Definitions</th>\n      <th>Unnamed: 2</th>\n    </tr>\n  </thead>\n  <tbody>\n    <tr>\n      <th>0</th>\n      <td>None</td>\n      <td>The churn dataset includes 19 variables includ...</td>\n    </tr>\n    <tr>\n      <th>1</th>\n      <td>ID</td>\n      <td>None</td>\n    </tr>\n    <tr>\n      <th>2</th>\n      <td>region</td>\n      <td>the location of each client</td>\n    </tr>\n    <tr>\n      <th>3</th>\n      <td>tenure</td>\n      <td>duration in the network</td>\n    </tr>\n    <tr>\n      <th>4</th>\n      <td>Amount</td>\n      <td>top-up amount</td>\n    </tr>\n    <tr>\n      <th>5</th>\n      <td>refill_frequency</td>\n      <td>number of times the customer refilled</td>\n    </tr>\n    <tr>\n      <th>6</th>\n      <td>revenue</td>\n      <td>monthly revenue of each client</td>\n    </tr>\n    <tr>\n      <th>7</th>\n      <td>arpu_segment</td>\n      <td>revenue over 90 days / 3</td>\n    </tr>\n    <tr>\n      <th>8</th>\n      <td>frequency</td>\n      <td>number of times the client has made an revenue</td>\n    </tr>\n    <tr>\n      <th>9</th>\n      <td>data_volume</td>\n      <td>number of connections</td>\n    </tr>\n    <tr>\n      <th>10</th>\n      <td>on_net</td>\n      <td>call within network</td>\n    </tr>\n    <tr>\n      <th>11</th>\n      <td>Procuct_1</td>\n      <td>call to Procuct_1</td>\n    </tr>\n    <tr>\n      <th>12</th>\n      <td>Procuct_2</td>\n      <td>call to Procuct_2</td>\n    </tr>\n    <tr>\n      <th>13</th>\n      <td>zone1</td>\n      <td>call to zones1</td>\n    </tr>\n    <tr>\n      <th>14</th>\n      <td>zone2</td>\n      <td>call to zones2</td>\n    </tr>\n    <tr>\n      <th>15</th>\n      <td>mrg</td>\n      <td>a client who is going</td>\n    </tr>\n    <tr>\n      <th>16</th>\n      <td>regularity</td>\n      <td>number of times the client is active for 90 days</td>\n    </tr>\n    <tr>\n      <th>17</th>\n      <td>top_pack</td>\n      <td>the most active packs</td>\n    </tr>\n    <tr>\n      <th>18</th>\n      <td>freq_top_pack</td>\n      <td>number of times the client has activated the t...</td>\n    </tr>\n    <tr>\n      <th>19</th>\n      <td>Target</td>\n      <td>variable to predict</td>\n    </tr>\n  </tbody>\n</table>\n</div>"
     },
     "execution_count": 3,
     "metadata": {},
     "output_type": "execute_result"
    }
   ],
   "source": [
    "variable_description = db_connection.execute(\"from variable_description\").df()\n",
    "print(variable_description.info())\n",
    "variable_description"
   ],
   "metadata": {
    "collapsed": false,
    "ExecuteTime": {
     "end_time": "2023-11-22T21:48:49.301282688Z",
     "start_time": "2023-11-22T21:48:49.290746451Z"
    }
   },
   "id": "301590810485a391"
  },
  {
   "cell_type": "markdown",
   "source": [
    "## Test Data"
   ],
   "metadata": {
    "collapsed": false
   },
   "id": "a34d3a582735919b"
  },
  {
   "cell_type": "code",
   "execution_count": 4,
   "outputs": [
    {
     "name": "stdout",
     "output_type": "stream",
     "text": [
      "<class 'pandas.core.frame.DataFrame'>\n",
      "RangeIndex: 380127 entries, 0 to 380126\n",
      "Data columns (total 18 columns):\n",
      " #   Column            Non-Null Count   Dtype  \n",
      "---  ------            --------------   -----  \n",
      " 0   ID                380127 non-null  object \n",
      " 1   region            230399 non-null  object \n",
      " 2   tenure            380127 non-null  object \n",
      " 3   Amount            247072 non-null  float64\n",
      " 4   refill_frequency  247072 non-null  float64\n",
      " 5   revenue           252754 non-null  float64\n",
      " 6   arpu_segment      252754 non-null  float64\n",
      " 7   frequency         252754 non-null  float64\n",
      " 8   data_volume       193087 non-null  float64\n",
      " 9   on_net            241613 non-null  float64\n",
      " 10  Procuct_1         222897 non-null  float64\n",
      " 11  Procuct_2         153126 non-null  float64\n",
      " 12  zone1             29861 non-null   float64\n",
      " 13  zone2             24076 non-null   float64\n",
      " 14  mrg               380127 non-null  object \n",
      " 15  regularity        380127 non-null  int64  \n",
      " 16  top_pack          221348 non-null  object \n",
      " 17  freq_top_pack     221348 non-null  float64\n",
      "dtypes: float64(12), int64(1), object(5)\n",
      "memory usage: 52.2+ MB\n",
      "None\n"
     ]
    },
    {
     "data": {
      "text/plain": "                     ID     region        tenure   Amount  refill_frequency  \\\n0       ID_LZ8K373W7EWV   Droidika  K > 24 month  2008.55              16.0   \n1       ID_04KNWHGV5783   Luminous  K > 24 month  2991.45              14.0   \n2       ID_CXS07G6VLB2U     Astral  K > 24 month  1581.20               8.0   \n3       ID_N3NFJJVHS25K  Eclipsara  K > 24 month  2564.10              12.0   \n4       ID_R36J4ROT93E9       None  K > 24 month      NaN               NaN   \n...                 ...        ...           ...      ...               ...   \n380122  ID_MGZSA4ICBD9O  Stellaris  K > 24 month  4273.50              19.0   \n380123  ID_XGDT520DFBLP       None  K > 24 month  6901.71              41.0   \n380124  ID_9RDB792PB5Q4  Mandalore  K > 24 month      NaN               NaN   \n380125  ID_KDTJHH8L8Z13   Luminous  K > 24 month  2307.69               9.0   \n380126  ID_2F6Y446GS8T3       None  K > 24 month      NaN               NaN   \n\n        revenue  arpu_segment  frequency  data_volume  on_net  Procuct_1  \\\n0       2010.26        670.09       17.0         10.0   247.0       17.0   \n1       2991.45        997.01       17.0          NaN    99.0      100.0   \n2       1578.21        526.07        8.0        436.0    47.0      113.0   \n3       2777.78        926.07       13.0          0.0   135.0      181.0   \n4           NaN           NaN        NaN          NaN     NaN        NaN   \n...         ...           ...        ...          ...     ...        ...   \n380122  4487.18       1495.73       20.0          NaN    60.0      208.0   \n380123  7115.38       2371.79       41.0       7019.0   105.0      257.0   \n380124    42.31         14.10        1.0          0.0     1.0        1.0   \n380125  2264.53        754.70       13.0       7381.0    15.0        NaN   \n380126      NaN           NaN        NaN          NaN     NaN        NaN   \n\n        Procuct_2  zone1  zone2 mrg  regularity  \\\n0            70.0    NaN    NaN  NO          59   \n1            84.0    NaN    NaN  NO          49   \n2             5.0    NaN    NaN  NO          13   \n3             NaN    NaN    NaN  NO          53   \n4             NaN    NaN    NaN  NO           1   \n...           ...    ...    ...  ..         ...   \n380122       80.0    NaN    NaN  NO          54   \n380123        5.0    NaN    NaN  NO          59   \n380124        NaN    NaN    NaN  NO          43   \n380125       19.0    2.0    NaN  NO          61   \n380126        NaN    NaN    NaN  NO           1   \n\n                              top_pack  freq_top_pack  \n0       On net 200F=Unlimited _call24H           11.0  \n1                All-net 500F=2000F;5d           12.0  \n2                          Jokko_Daily            6.0  \n3                All-net 500F=2000F;5d           13.0  \n4                                 None            NaN  \n...                                ...            ...  \n380122           All-net 500F=2000F;5d           20.0  \n380123           Data: 200 F=100MB,24H           33.0  \n380124                            None            NaN  \n380125                Data:490F=1GB,7d            5.0  \n380126                            None            NaN  \n\n[380127 rows x 18 columns]",
      "text/html": "<div>\n<style scoped>\n    .dataframe tbody tr th:only-of-type {\n        vertical-align: middle;\n    }\n\n    .dataframe tbody tr th {\n        vertical-align: top;\n    }\n\n    .dataframe thead th {\n        text-align: right;\n    }\n</style>\n<table border=\"1\" class=\"dataframe\">\n  <thead>\n    <tr style=\"text-align: right;\">\n      <th></th>\n      <th>ID</th>\n      <th>region</th>\n      <th>tenure</th>\n      <th>Amount</th>\n      <th>refill_frequency</th>\n      <th>revenue</th>\n      <th>arpu_segment</th>\n      <th>frequency</th>\n      <th>data_volume</th>\n      <th>on_net</th>\n      <th>Procuct_1</th>\n      <th>Procuct_2</th>\n      <th>zone1</th>\n      <th>zone2</th>\n      <th>mrg</th>\n      <th>regularity</th>\n      <th>top_pack</th>\n      <th>freq_top_pack</th>\n    </tr>\n  </thead>\n  <tbody>\n    <tr>\n      <th>0</th>\n      <td>ID_LZ8K373W7EWV</td>\n      <td>Droidika</td>\n      <td>K &gt; 24 month</td>\n      <td>2008.55</td>\n      <td>16.0</td>\n      <td>2010.26</td>\n      <td>670.09</td>\n      <td>17.0</td>\n      <td>10.0</td>\n      <td>247.0</td>\n      <td>17.0</td>\n      <td>70.0</td>\n      <td>NaN</td>\n      <td>NaN</td>\n      <td>NO</td>\n      <td>59</td>\n      <td>On net 200F=Unlimited _call24H</td>\n      <td>11.0</td>\n    </tr>\n    <tr>\n      <th>1</th>\n      <td>ID_04KNWHGV5783</td>\n      <td>Luminous</td>\n      <td>K &gt; 24 month</td>\n      <td>2991.45</td>\n      <td>14.0</td>\n      <td>2991.45</td>\n      <td>997.01</td>\n      <td>17.0</td>\n      <td>NaN</td>\n      <td>99.0</td>\n      <td>100.0</td>\n      <td>84.0</td>\n      <td>NaN</td>\n      <td>NaN</td>\n      <td>NO</td>\n      <td>49</td>\n      <td>All-net 500F=2000F;5d</td>\n      <td>12.0</td>\n    </tr>\n    <tr>\n      <th>2</th>\n      <td>ID_CXS07G6VLB2U</td>\n      <td>Astral</td>\n      <td>K &gt; 24 month</td>\n      <td>1581.20</td>\n      <td>8.0</td>\n      <td>1578.21</td>\n      <td>526.07</td>\n      <td>8.0</td>\n      <td>436.0</td>\n      <td>47.0</td>\n      <td>113.0</td>\n      <td>5.0</td>\n      <td>NaN</td>\n      <td>NaN</td>\n      <td>NO</td>\n      <td>13</td>\n      <td>Jokko_Daily</td>\n      <td>6.0</td>\n    </tr>\n    <tr>\n      <th>3</th>\n      <td>ID_N3NFJJVHS25K</td>\n      <td>Eclipsara</td>\n      <td>K &gt; 24 month</td>\n      <td>2564.10</td>\n      <td>12.0</td>\n      <td>2777.78</td>\n      <td>926.07</td>\n      <td>13.0</td>\n      <td>0.0</td>\n      <td>135.0</td>\n      <td>181.0</td>\n      <td>NaN</td>\n      <td>NaN</td>\n      <td>NaN</td>\n      <td>NO</td>\n      <td>53</td>\n      <td>All-net 500F=2000F;5d</td>\n      <td>13.0</td>\n    </tr>\n    <tr>\n      <th>4</th>\n      <td>ID_R36J4ROT93E9</td>\n      <td>None</td>\n      <td>K &gt; 24 month</td>\n      <td>NaN</td>\n      <td>NaN</td>\n      <td>NaN</td>\n      <td>NaN</td>\n      <td>NaN</td>\n      <td>NaN</td>\n      <td>NaN</td>\n      <td>NaN</td>\n      <td>NaN</td>\n      <td>NaN</td>\n      <td>NaN</td>\n      <td>NO</td>\n      <td>1</td>\n      <td>None</td>\n      <td>NaN</td>\n    </tr>\n    <tr>\n      <th>...</th>\n      <td>...</td>\n      <td>...</td>\n      <td>...</td>\n      <td>...</td>\n      <td>...</td>\n      <td>...</td>\n      <td>...</td>\n      <td>...</td>\n      <td>...</td>\n      <td>...</td>\n      <td>...</td>\n      <td>...</td>\n      <td>...</td>\n      <td>...</td>\n      <td>...</td>\n      <td>...</td>\n      <td>...</td>\n      <td>...</td>\n    </tr>\n    <tr>\n      <th>380122</th>\n      <td>ID_MGZSA4ICBD9O</td>\n      <td>Stellaris</td>\n      <td>K &gt; 24 month</td>\n      <td>4273.50</td>\n      <td>19.0</td>\n      <td>4487.18</td>\n      <td>1495.73</td>\n      <td>20.0</td>\n      <td>NaN</td>\n      <td>60.0</td>\n      <td>208.0</td>\n      <td>80.0</td>\n      <td>NaN</td>\n      <td>NaN</td>\n      <td>NO</td>\n      <td>54</td>\n      <td>All-net 500F=2000F;5d</td>\n      <td>20.0</td>\n    </tr>\n    <tr>\n      <th>380123</th>\n      <td>ID_XGDT520DFBLP</td>\n      <td>None</td>\n      <td>K &gt; 24 month</td>\n      <td>6901.71</td>\n      <td>41.0</td>\n      <td>7115.38</td>\n      <td>2371.79</td>\n      <td>41.0</td>\n      <td>7019.0</td>\n      <td>105.0</td>\n      <td>257.0</td>\n      <td>5.0</td>\n      <td>NaN</td>\n      <td>NaN</td>\n      <td>NO</td>\n      <td>59</td>\n      <td>Data: 200 F=100MB,24H</td>\n      <td>33.0</td>\n    </tr>\n    <tr>\n      <th>380124</th>\n      <td>ID_9RDB792PB5Q4</td>\n      <td>Mandalore</td>\n      <td>K &gt; 24 month</td>\n      <td>NaN</td>\n      <td>NaN</td>\n      <td>42.31</td>\n      <td>14.10</td>\n      <td>1.0</td>\n      <td>0.0</td>\n      <td>1.0</td>\n      <td>1.0</td>\n      <td>NaN</td>\n      <td>NaN</td>\n      <td>NaN</td>\n      <td>NO</td>\n      <td>43</td>\n      <td>None</td>\n      <td>NaN</td>\n    </tr>\n    <tr>\n      <th>380125</th>\n      <td>ID_KDTJHH8L8Z13</td>\n      <td>Luminous</td>\n      <td>K &gt; 24 month</td>\n      <td>2307.69</td>\n      <td>9.0</td>\n      <td>2264.53</td>\n      <td>754.70</td>\n      <td>13.0</td>\n      <td>7381.0</td>\n      <td>15.0</td>\n      <td>NaN</td>\n      <td>19.0</td>\n      <td>2.0</td>\n      <td>NaN</td>\n      <td>NO</td>\n      <td>61</td>\n      <td>Data:490F=1GB,7d</td>\n      <td>5.0</td>\n    </tr>\n    <tr>\n      <th>380126</th>\n      <td>ID_2F6Y446GS8T3</td>\n      <td>None</td>\n      <td>K &gt; 24 month</td>\n      <td>NaN</td>\n      <td>NaN</td>\n      <td>NaN</td>\n      <td>NaN</td>\n      <td>NaN</td>\n      <td>NaN</td>\n      <td>NaN</td>\n      <td>NaN</td>\n      <td>NaN</td>\n      <td>NaN</td>\n      <td>NaN</td>\n      <td>NO</td>\n      <td>1</td>\n      <td>None</td>\n      <td>NaN</td>\n    </tr>\n  </tbody>\n</table>\n<p>380127 rows × 18 columns</p>\n</div>"
     },
     "execution_count": 4,
     "metadata": {},
     "output_type": "execute_result"
    }
   ],
   "source": [
    "test_data = db_connection.execute(\"from test_data\").df()\n",
    "print(test_data.info())\n",
    "test_data"
   ],
   "metadata": {
    "collapsed": false,
    "ExecuteTime": {
     "end_time": "2023-11-22T21:48:49.656730631Z",
     "start_time": "2023-11-22T21:48:49.302241547Z"
    }
   },
   "id": "7172dbfd88bbe0de"
  },
  {
   "cell_type": "markdown",
   "source": [
    "## Train Data"
   ],
   "metadata": {
    "collapsed": false
   },
   "id": "93babc0139f6e19a"
  },
  {
   "cell_type": "code",
   "execution_count": 5,
   "outputs": [
    {
     "name": "stdout",
     "output_type": "stream",
     "text": [
      "<class 'pandas.core.frame.DataFrame'>\n",
      "RangeIndex: 1507834 entries, 0 to 1507833\n",
      "Data columns (total 19 columns):\n",
      " #   Column            Non-Null Count    Dtype  \n",
      "---  ------            --------------    -----  \n",
      " 0   ID                1507834 non-null  object \n",
      " 1   region            913743 non-null   object \n",
      " 2   tenure            1507834 non-null  object \n",
      " 3   Amount            978320 non-null   float64\n",
      " 4   refill_frequency  978320 non-null   float64\n",
      " 5   revenue           999713 non-null   float64\n",
      " 6   arpu_segment      999713 non-null   float64\n",
      " 7   frequency         999713 non-null   float64\n",
      " 8   data_volume       766028 non-null   float64\n",
      " 9   on_net            957192 non-null   float64\n",
      " 10  Procuct_1         881271 non-null   float64\n",
      " 11  Procuct_2         604784 non-null   float64\n",
      " 12  zone1             118986 non-null   float64\n",
      " 13  zone2             95505 non-null    float64\n",
      " 14  mrg               1507834 non-null  object \n",
      " 15  regularity        1507834 non-null  int64  \n",
      " 16  top_pack          876011 non-null   object \n",
      " 17  freq_top_pack     876011 non-null   float64\n",
      " 18  Target            1507834 non-null  int64  \n",
      "dtypes: float64(12), int64(2), object(5)\n",
      "memory usage: 218.6+ MB\n",
      "None\n"
     ]
    },
    {
     "data": {
      "text/plain": "                      ID     region        tenure   Amount  refill_frequency  \\\n0        ID_YEB05X4KUGPQ       None  K > 24 month      NaN               NaN   \n1        ID_Z9IQ9QH52KVN     Nebula  K > 24 month  4764.96              41.0   \n2        ID_YZSU7B7M35QS  Celestial  K > 24 month  5769.23              22.0   \n3        ID_QS4F5LEX29KM       None  K > 24 month      NaN               NaN   \n4        ID_8IYIC9PFU8U1  Eclipsara  K > 24 month  5341.88              58.0   \n...                  ...        ...           ...      ...               ...   \n1507829  ID_D1MA2025F1U6       None  K > 24 month  7179.49              17.0   \n1507830  ID_9H6BGU1FS1CD  Celestial  K > 24 month   854.70               2.0   \n1507831  ID_QWJPIJ065LA4   Luminous  K > 24 month  1923.08               9.0   \n1507832  ID_B0S6HQUEDWJ7     Astral  K > 24 month      NaN               NaN   \n1507833  ID_T7DN0N7KLS2R       None  K > 24 month      NaN               NaN   \n\n         revenue  arpu_segment  frequency  data_volume  on_net  Procuct_1  \\\n0            NaN           NaN        NaN          NaN     NaN        NaN   \n1        4756.84       1585.47       41.0          2.0   626.0       24.0   \n2        5769.23       1923.08       22.0      28121.0     0.0        NaN   \n3            NaN           NaN        NaN          NaN     NaN        NaN   \n4        5636.75       1879.06       60.0       1131.0   546.0      376.0   \n...          ...           ...        ...          ...     ...        ...   \n1507829  6972.22       2323.93       18.0       4269.0     7.0        NaN   \n1507830   854.70        285.04        2.0       2276.0     0.0        NaN   \n1507831  2136.75        712.39       10.0          NaN    34.0       74.0   \n1507832      NaN           NaN        NaN          0.0     NaN        NaN   \n1507833      NaN           NaN        NaN          NaN     NaN        NaN   \n\n         Procuct_2  zone1  zone2 mrg  regularity  \\\n0              NaN    NaN    NaN  NO           3   \n1              NaN    NaN    NaN  NO          62   \n2              1.0    NaN    NaN  NO          61   \n3              NaN    NaN    NaN  NO           6   \n4              0.0    NaN    NaN  NO          62   \n...            ...    ...    ...  ..         ...   \n1507829       11.0    0.0   61.0  NO          41   \n1507830        NaN    NaN    NaN  NO          36   \n1507831       48.0    NaN    NaN  NO          40   \n1507832        NaN    NaN    NaN  NO          39   \n1507833        NaN    NaN    NaN  NO           1   \n\n                               top_pack  freq_top_pack  Target  \n0                                  None            NaN       0  \n1        On net 200F=Unlimited _call24H           31.0       0  \n2                                  None            NaN       0  \n3                                  None            NaN       0  \n4           Mixt 250F=Unlimited_call24H           31.0       0  \n...                                 ...            ...     ...  \n1507829                Data:490F=1GB,7d            4.0       0  \n1507830              Data:1000F=2GB,30d            2.0       0  \n1507831           All-net 500F=2000F;5d           10.0       0  \n1507832                            None            NaN       0  \n1507833                            None            NaN       1  \n\n[1507834 rows x 19 columns]",
      "text/html": "<div>\n<style scoped>\n    .dataframe tbody tr th:only-of-type {\n        vertical-align: middle;\n    }\n\n    .dataframe tbody tr th {\n        vertical-align: top;\n    }\n\n    .dataframe thead th {\n        text-align: right;\n    }\n</style>\n<table border=\"1\" class=\"dataframe\">\n  <thead>\n    <tr style=\"text-align: right;\">\n      <th></th>\n      <th>ID</th>\n      <th>region</th>\n      <th>tenure</th>\n      <th>Amount</th>\n      <th>refill_frequency</th>\n      <th>revenue</th>\n      <th>arpu_segment</th>\n      <th>frequency</th>\n      <th>data_volume</th>\n      <th>on_net</th>\n      <th>Procuct_1</th>\n      <th>Procuct_2</th>\n      <th>zone1</th>\n      <th>zone2</th>\n      <th>mrg</th>\n      <th>regularity</th>\n      <th>top_pack</th>\n      <th>freq_top_pack</th>\n      <th>Target</th>\n    </tr>\n  </thead>\n  <tbody>\n    <tr>\n      <th>0</th>\n      <td>ID_YEB05X4KUGPQ</td>\n      <td>None</td>\n      <td>K &gt; 24 month</td>\n      <td>NaN</td>\n      <td>NaN</td>\n      <td>NaN</td>\n      <td>NaN</td>\n      <td>NaN</td>\n      <td>NaN</td>\n      <td>NaN</td>\n      <td>NaN</td>\n      <td>NaN</td>\n      <td>NaN</td>\n      <td>NaN</td>\n      <td>NO</td>\n      <td>3</td>\n      <td>None</td>\n      <td>NaN</td>\n      <td>0</td>\n    </tr>\n    <tr>\n      <th>1</th>\n      <td>ID_Z9IQ9QH52KVN</td>\n      <td>Nebula</td>\n      <td>K &gt; 24 month</td>\n      <td>4764.96</td>\n      <td>41.0</td>\n      <td>4756.84</td>\n      <td>1585.47</td>\n      <td>41.0</td>\n      <td>2.0</td>\n      <td>626.0</td>\n      <td>24.0</td>\n      <td>NaN</td>\n      <td>NaN</td>\n      <td>NaN</td>\n      <td>NO</td>\n      <td>62</td>\n      <td>On net 200F=Unlimited _call24H</td>\n      <td>31.0</td>\n      <td>0</td>\n    </tr>\n    <tr>\n      <th>2</th>\n      <td>ID_YZSU7B7M35QS</td>\n      <td>Celestial</td>\n      <td>K &gt; 24 month</td>\n      <td>5769.23</td>\n      <td>22.0</td>\n      <td>5769.23</td>\n      <td>1923.08</td>\n      <td>22.0</td>\n      <td>28121.0</td>\n      <td>0.0</td>\n      <td>NaN</td>\n      <td>1.0</td>\n      <td>NaN</td>\n      <td>NaN</td>\n      <td>NO</td>\n      <td>61</td>\n      <td>None</td>\n      <td>NaN</td>\n      <td>0</td>\n    </tr>\n    <tr>\n      <th>3</th>\n      <td>ID_QS4F5LEX29KM</td>\n      <td>None</td>\n      <td>K &gt; 24 month</td>\n      <td>NaN</td>\n      <td>NaN</td>\n      <td>NaN</td>\n      <td>NaN</td>\n      <td>NaN</td>\n      <td>NaN</td>\n      <td>NaN</td>\n      <td>NaN</td>\n      <td>NaN</td>\n      <td>NaN</td>\n      <td>NaN</td>\n      <td>NO</td>\n      <td>6</td>\n      <td>None</td>\n      <td>NaN</td>\n      <td>0</td>\n    </tr>\n    <tr>\n      <th>4</th>\n      <td>ID_8IYIC9PFU8U1</td>\n      <td>Eclipsara</td>\n      <td>K &gt; 24 month</td>\n      <td>5341.88</td>\n      <td>58.0</td>\n      <td>5636.75</td>\n      <td>1879.06</td>\n      <td>60.0</td>\n      <td>1131.0</td>\n      <td>546.0</td>\n      <td>376.0</td>\n      <td>0.0</td>\n      <td>NaN</td>\n      <td>NaN</td>\n      <td>NO</td>\n      <td>62</td>\n      <td>Mixt 250F=Unlimited_call24H</td>\n      <td>31.0</td>\n      <td>0</td>\n    </tr>\n    <tr>\n      <th>...</th>\n      <td>...</td>\n      <td>...</td>\n      <td>...</td>\n      <td>...</td>\n      <td>...</td>\n      <td>...</td>\n      <td>...</td>\n      <td>...</td>\n      <td>...</td>\n      <td>...</td>\n      <td>...</td>\n      <td>...</td>\n      <td>...</td>\n      <td>...</td>\n      <td>...</td>\n      <td>...</td>\n      <td>...</td>\n      <td>...</td>\n      <td>...</td>\n    </tr>\n    <tr>\n      <th>1507829</th>\n      <td>ID_D1MA2025F1U6</td>\n      <td>None</td>\n      <td>K &gt; 24 month</td>\n      <td>7179.49</td>\n      <td>17.0</td>\n      <td>6972.22</td>\n      <td>2323.93</td>\n      <td>18.0</td>\n      <td>4269.0</td>\n      <td>7.0</td>\n      <td>NaN</td>\n      <td>11.0</td>\n      <td>0.0</td>\n      <td>61.0</td>\n      <td>NO</td>\n      <td>41</td>\n      <td>Data:490F=1GB,7d</td>\n      <td>4.0</td>\n      <td>0</td>\n    </tr>\n    <tr>\n      <th>1507830</th>\n      <td>ID_9H6BGU1FS1CD</td>\n      <td>Celestial</td>\n      <td>K &gt; 24 month</td>\n      <td>854.70</td>\n      <td>2.0</td>\n      <td>854.70</td>\n      <td>285.04</td>\n      <td>2.0</td>\n      <td>2276.0</td>\n      <td>0.0</td>\n      <td>NaN</td>\n      <td>NaN</td>\n      <td>NaN</td>\n      <td>NaN</td>\n      <td>NO</td>\n      <td>36</td>\n      <td>Data:1000F=2GB,30d</td>\n      <td>2.0</td>\n      <td>0</td>\n    </tr>\n    <tr>\n      <th>1507831</th>\n      <td>ID_QWJPIJ065LA4</td>\n      <td>Luminous</td>\n      <td>K &gt; 24 month</td>\n      <td>1923.08</td>\n      <td>9.0</td>\n      <td>2136.75</td>\n      <td>712.39</td>\n      <td>10.0</td>\n      <td>NaN</td>\n      <td>34.0</td>\n      <td>74.0</td>\n      <td>48.0</td>\n      <td>NaN</td>\n      <td>NaN</td>\n      <td>NO</td>\n      <td>40</td>\n      <td>All-net 500F=2000F;5d</td>\n      <td>10.0</td>\n      <td>0</td>\n    </tr>\n    <tr>\n      <th>1507832</th>\n      <td>ID_B0S6HQUEDWJ7</td>\n      <td>Astral</td>\n      <td>K &gt; 24 month</td>\n      <td>NaN</td>\n      <td>NaN</td>\n      <td>NaN</td>\n      <td>NaN</td>\n      <td>NaN</td>\n      <td>0.0</td>\n      <td>NaN</td>\n      <td>NaN</td>\n      <td>NaN</td>\n      <td>NaN</td>\n      <td>NaN</td>\n      <td>NO</td>\n      <td>39</td>\n      <td>None</td>\n      <td>NaN</td>\n      <td>0</td>\n    </tr>\n    <tr>\n      <th>1507833</th>\n      <td>ID_T7DN0N7KLS2R</td>\n      <td>None</td>\n      <td>K &gt; 24 month</td>\n      <td>NaN</td>\n      <td>NaN</td>\n      <td>NaN</td>\n      <td>NaN</td>\n      <td>NaN</td>\n      <td>NaN</td>\n      <td>NaN</td>\n      <td>NaN</td>\n      <td>NaN</td>\n      <td>NaN</td>\n      <td>NaN</td>\n      <td>NO</td>\n      <td>1</td>\n      <td>None</td>\n      <td>NaN</td>\n      <td>1</td>\n    </tr>\n  </tbody>\n</table>\n<p>1507834 rows × 19 columns</p>\n</div>"
     },
     "execution_count": 5,
     "metadata": {},
     "output_type": "execute_result"
    }
   ],
   "source": [
    "train_data = db_connection.execute(\"from train_data\").df()\n",
    "print(train_data.info())\n",
    "train_data"
   ],
   "metadata": {
    "collapsed": false,
    "ExecuteTime": {
     "end_time": "2023-11-22T21:48:51.017439359Z",
     "start_time": "2023-11-22T21:48:49.655949541Z"
    }
   },
   "id": "78aa8bf4cb8f86cc"
  },
  {
   "cell_type": "markdown",
   "source": [
    "## Sample Submission"
   ],
   "metadata": {
    "collapsed": false
   },
   "id": "27ff3746119fb4c3"
  },
  {
   "cell_type": "code",
   "execution_count": 6,
   "outputs": [
    {
     "name": "stdout",
     "output_type": "stream",
     "text": [
      "<class 'pandas.core.frame.DataFrame'>\n",
      "RangeIndex: 380127 entries, 0 to 380126\n",
      "Data columns (total 2 columns):\n",
      " #   Column  Non-Null Count   Dtype \n",
      "---  ------  --------------   ----- \n",
      " 0   ID      380127 non-null  object\n",
      " 1   Target  380127 non-null  int64 \n",
      "dtypes: int64(1), object(1)\n",
      "memory usage: 5.8+ MB\n",
      "None\n"
     ]
    },
    {
     "data": {
      "text/plain": "                     ID  Target\n0       ID_LZ8K373W7EWV       0\n1       ID_04KNWHGV5783       0\n2       ID_CXS07G6VLB2U       0\n3       ID_N3NFJJVHS25K       0\n4       ID_R36J4ROT93E9       0\n...                 ...     ...\n380122  ID_MGZSA4ICBD9O       0\n380123  ID_XGDT520DFBLP       0\n380124  ID_9RDB792PB5Q4       0\n380125  ID_KDTJHH8L8Z13       0\n380126  ID_2F6Y446GS8T3       0\n\n[380127 rows x 2 columns]",
      "text/html": "<div>\n<style scoped>\n    .dataframe tbody tr th:only-of-type {\n        vertical-align: middle;\n    }\n\n    .dataframe tbody tr th {\n        vertical-align: top;\n    }\n\n    .dataframe thead th {\n        text-align: right;\n    }\n</style>\n<table border=\"1\" class=\"dataframe\">\n  <thead>\n    <tr style=\"text-align: right;\">\n      <th></th>\n      <th>ID</th>\n      <th>Target</th>\n    </tr>\n  </thead>\n  <tbody>\n    <tr>\n      <th>0</th>\n      <td>ID_LZ8K373W7EWV</td>\n      <td>0</td>\n    </tr>\n    <tr>\n      <th>1</th>\n      <td>ID_04KNWHGV5783</td>\n      <td>0</td>\n    </tr>\n    <tr>\n      <th>2</th>\n      <td>ID_CXS07G6VLB2U</td>\n      <td>0</td>\n    </tr>\n    <tr>\n      <th>3</th>\n      <td>ID_N3NFJJVHS25K</td>\n      <td>0</td>\n    </tr>\n    <tr>\n      <th>4</th>\n      <td>ID_R36J4ROT93E9</td>\n      <td>0</td>\n    </tr>\n    <tr>\n      <th>...</th>\n      <td>...</td>\n      <td>...</td>\n    </tr>\n    <tr>\n      <th>380122</th>\n      <td>ID_MGZSA4ICBD9O</td>\n      <td>0</td>\n    </tr>\n    <tr>\n      <th>380123</th>\n      <td>ID_XGDT520DFBLP</td>\n      <td>0</td>\n    </tr>\n    <tr>\n      <th>380124</th>\n      <td>ID_9RDB792PB5Q4</td>\n      <td>0</td>\n    </tr>\n    <tr>\n      <th>380125</th>\n      <td>ID_KDTJHH8L8Z13</td>\n      <td>0</td>\n    </tr>\n    <tr>\n      <th>380126</th>\n      <td>ID_2F6Y446GS8T3</td>\n      <td>0</td>\n    </tr>\n  </tbody>\n</table>\n<p>380127 rows × 2 columns</p>\n</div>"
     },
     "execution_count": 6,
     "metadata": {},
     "output_type": "execute_result"
    }
   ],
   "source": [
    "sample_submission = db_connection.execute(\"from sample_submission\").df()\n",
    "print(sample_submission.info())\n",
    "sample_submission"
   ],
   "metadata": {
    "collapsed": false,
    "ExecuteTime": {
     "end_time": "2023-11-22T21:48:51.089847076Z",
     "start_time": "2023-11-22T21:48:51.016087505Z"
    }
   },
   "id": "60ab7cb1d3f6f040"
  },
  {
   "cell_type": "markdown",
   "source": [
    "# Detach Database"
   ],
   "metadata": {
    "collapsed": false
   },
   "id": "ed672b487c14fc73"
  },
  {
   "cell_type": "code",
   "execution_count": 7,
   "outputs": [],
   "source": [
    "db_connection.close()"
   ],
   "metadata": {
    "collapsed": false,
    "ExecuteTime": {
     "end_time": "2023-11-22T21:48:51.090021425Z",
     "start_time": "2023-11-22T21:48:51.065142177Z"
    }
   },
   "id": "e8c7eaff46a6df78"
  }
 ],
 "metadata": {
  "kernelspec": {
   "display_name": "Python 3",
   "language": "python",
   "name": "python3"
  },
  "language_info": {
   "codemirror_mode": {
    "name": "ipython",
    "version": 2
   },
   "file_extension": ".py",
   "mimetype": "text/x-python",
   "name": "python",
   "nbconvert_exporter": "python",
   "pygments_lexer": "ipython2",
   "version": "2.7.6"
  }
 },
 "nbformat": 4,
 "nbformat_minor": 5
}
